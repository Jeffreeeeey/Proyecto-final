{
  "nbformat": 4,
  "nbformat_minor": 0,
  "metadata": {
    "colab": {
      "provenance": []
    },
    "kernelspec": {
      "name": "python3",
      "display_name": "Python 3"
    },
    "language_info": {
      "name": "python"
    }
  },
  "cells": [
    {
      "cell_type": "markdown",
      "source": [
        "# Proyecto Final\n",
        "# Juan Andrés Rozo, Jeffrey Ramírez\n",
        "\n",
        "Descripción del problema, justificación y objetivos:\n",
        "\n",
        "En este proyecto se busca crear y optimizar un portafolio de inversión mediante el uso de técnicas probabilísticas y de optimización. La construcción de portafolios aleatorios y la optimización probabilística permiten encontrar la combinación de activos que maximiza el rendimiento esperado, dado un nivel de riesgo determinado.\n",
        "\n",
        "El problema de construir un portafolio óptimo consiste en encontrar la combinación de activos financieros que maximice la rentabilidad esperada del portafolio, dada una cierta cantidad de riesgo asumido. La rentabilidad de un activo se puede medir por el retorno que genera (por ejemplo, la ganancia o pérdida en el precio de una acción o el pago de dividendos), mientras que el riesgo se puede medir por la volatilidad o la desviación estándar de los retornos.\n",
        "\n",
        "Justificación y objetivos\n",
        "\n",
        "La construcción aleatoria y optimización probabilística de portafolios es un tema importante en la gestión de inversiones y la planificación financiera. La creación de un portafolio óptimo permite a los inversores maximizar su rentabilidad esperada mientras se controla el nivel de riesgo. Además, la construcción de un portafolio diversificado es esencial para minimizar el riesgo sistemático y no sistemático de los activos individuales.\n",
        "\n",
        "La importancia de construir un portafolio adecuado radica en la necesidad de maximizar las ganancias y minimizar las pérdidas al invertir en el mercado financiero. La creación de un portafolio diversificado permite reducir el riesgo, ya que el rendimiento de cada activo no se correlaciona perfectamente con el de los demás activos.\n",
        "\n",
        "El objetivo principal de la construcción de un portafolio es diversificar el riesgo, es decir, combinar activos financieros que no estén altamente correlacionados para reducir el riesgo total del portafolio. Esto se debe a que una disminución en el valor de un activo se puede compensar con un aumento en el valor de otro activo, lo que reduce la variabilidad del rendimiento total del portafolio.\n",
        "\n",
        "Los objetivos específicos de este proyecto son los siguientes: Recopilar y limpiar los datos financieros necesarios para la construcción del portafolio. Realizar un análisis descriptivo de los datos para identificar patrones y tendencias. Aplicar técnicas de optimización y regresión para encontrar el mejor portafolio posible. Evaluar el rendimiento del portafolio a través de simulaciones de Monte Carlo y procesos estocásticos.\n",
        "\n",
        "Implementación del modelo y análisis de resultados:\n",
        "\n",
        "En primer lugar, se debe construir el modelo de portafolio óptimo utilizando el método Michaud y la librería CVXPY. Este modelo debe tener en cuenta las preferencias del inversor, la matriz de covarianza estocástica y otros factores relevantes que puedan afectar los retornos de los activos. Una vez que se ha construido el modelo de portafolio óptimo, se puede utilizar la simulación de Monte Carlo para evaluar su rendimiento y riesgo en diferentes escenarios de mercado.se deben definir un conjunto de variables aleatorias que representen los escenarios de mercado. Estas variables aleatorias pueden representar, por ejemplo, la tasa de crecimiento del PIB, la inflación, las tasas de interés y otros factores relevantes que puedan afectar los retornos de los activos.\n",
        "\n",
        "Calcular las estadísticas descriptivas de los retornos del portafolio óptimo para cada escenario de mercado generado en el paso 2. Estas estadísticas pueden incluir la media, la desviación estándar, el VaR (valor en riesgo), el CVaR (valor en riesgo condicional) y otros indicadores de riesgo y rendimiento.\n",
        "\n",
        "Analizar los resultados de la simulación de Monte Carlo para evaluar el rendimiento y el riesgo del portafolio óptimo en diferentes escenarios de mercado.\n",
        "\n",
        "En resumen, la simulación de Monte Carlo y los procesos estocásticos son herramientas útiles para la evaluación del riesgo y el rendimiento de los portafolios de inversión. Al combinar estas técnicas con el método Michaud y la librería CVXPY, se puede construir un modelo de portafolio óptimo que tenga en cuenta las preferencias del inversor y otros factores relevantes que puedan afectar los retornos de los activos. La simulación de Monte Carlo permite entonces evaluar el rendimiento y el riesgo del portafolio óptimo en diferentes escenarios de mercado"
      ],
      "metadata": {
        "id": "gRGZfpd46COT"
      }
    },
    {
      "cell_type": "code",
      "source": [
        "%pip install cvxpy\n",
        "import numpy as np\n",
        "import pandas as pd\n",
        "import matplotlib.pyplot as plt\n",
        "import cvxpy as cp\n",
        "from scipy import stats\n",
        "from scipy.stats import norm\n",
        "#!pip install --quiet yfinance\n",
        "import yfinance as yf\n",
        "import warnings\n",
        "warnings.filterwarnings(\"ignore\")"
      ],
      "metadata": {
        "colab": {
          "base_uri": "https://localhost:8080/"
        },
        "id": "tJqoMN2TcAcM",
        "outputId": "6a238f1c-c48a-4fc1-a583-959aaaf12666"
      },
      "execution_count": null,
      "outputs": [
        {
          "output_type": "stream",
          "name": "stdout",
          "text": [
            "Looking in indexes: https://pypi.org/simple, https://us-python.pkg.dev/colab-wheels/public/simple/\n",
            "Requirement already satisfied: cvxpy in /usr/local/lib/python3.10/dist-packages (1.3.1)\n",
            "Requirement already satisfied: osqp>=0.4.1 in /usr/local/lib/python3.10/dist-packages (from cvxpy) (0.6.2.post8)\n",
            "Requirement already satisfied: ecos>=2 in /usr/local/lib/python3.10/dist-packages (from cvxpy) (2.0.12)\n",
            "Requirement already satisfied: scs>=1.1.6 in /usr/local/lib/python3.10/dist-packages (from cvxpy) (3.2.3)\n",
            "Requirement already satisfied: numpy>=1.15 in /usr/local/lib/python3.10/dist-packages (from cvxpy) (1.22.4)\n",
            "Requirement already satisfied: scipy>=1.1.0 in /usr/local/lib/python3.10/dist-packages (from cvxpy) (1.10.1)\n",
            "Requirement already satisfied: setuptools>65.5.1 in /usr/local/lib/python3.10/dist-packages (from cvxpy) (67.7.2)\n",
            "Requirement already satisfied: qdldl in /usr/local/lib/python3.10/dist-packages (from osqp>=0.4.1->cvxpy) (0.1.7)\n"
          ]
        }
      ]
    },
    {
      "cell_type": "code",
      "source": [
        "activos = [\"CSCO\",\"JNJ\",\"MCD\"] \n",
        "precios = yf.download(activos, start=\"2017-12-01\",end=\"2022-12-31\",interval=\"1Mo\")['Adj Close']\n",
        "retornos = np.log(precios/precios.shift()).dropna()\n",
        "promedio_rendimientos = retornos.mean()\n",
        "covarianza = retornos.cov()\n",
        "sigma = retornos.std()\n",
        "cov = retornos.cov()"
      ],
      "metadata": {
        "colab": {
          "base_uri": "https://localhost:8080/"
        },
        "id": "J1G8iBoHcEE2",
        "outputId": "1fd6acb8-2560-4e09-d2ad-e64e93328b2c"
      },
      "execution_count": null,
      "outputs": [
        {
          "output_type": "stream",
          "name": "stdout",
          "text": [
            "[*********************100%***********************]  3 of 3 completed\n"
          ]
        }
      ]
    },
    {
      "cell_type": "code",
      "source": [
        "import cvxpy as cp \n",
        "w= cp.Variable(3)\n",
        "obj=cp.Minimize(cp.quad_form(w,covarianza))\n",
        "const = [cp.sum(w)==1, w>=0]\n",
        "prob = cp.Problem(obj, const)\n",
        "prob.solve()\n",
        "wpmvg = w.value\n",
        "wpmvg"
      ],
      "metadata": {
        "colab": {
          "base_uri": "https://localhost:8080/"
        },
        "id": "XQ2gCN_RqX3o",
        "outputId": "1a4efc3c-64f7-4b74-dc43-ead00a17544e"
      },
      "execution_count": null,
      "outputs": [
        {
          "output_type": "execute_result",
          "data": {
            "text/plain": [
              "array([0.09784298, 0.51628811, 0.38586891])"
            ]
          },
          "metadata": {},
          "execution_count": 392
        }
      ]
    },
    {
      "cell_type": "code",
      "source": [
        "alpha=0.95\n",
        "VaR= norm.ppf(alpha, promedio_rendimientos,sigma) \n",
        "VaR"
      ],
      "metadata": {
        "colab": {
          "base_uri": "https://localhost:8080/"
        },
        "id": "_XlkZES1xfeI",
        "outputId": "60b61798-6853-469b-a427-6efdc43c5352"
      },
      "execution_count": null,
      "outputs": [
        {
          "output_type": "execute_result",
          "data": {
            "text/plain": [
              "array([0.13486207, 0.09029838, 0.10001104])"
            ]
          },
          "metadata": {},
          "execution_count": 393
        }
      ]
    },
    {
      "cell_type": "code",
      "source": [
        "def PathsOU(X0, k, mu, sigma, T, NS, M):\n",
        "    Z = np.random.normal(0,1,[NS,M])\n",
        "    dt = T / M\n",
        "    X = np.zeros([NS, M+1])\n",
        "    X[:,0] = X0\n",
        "    for t in range(0,M):\n",
        "        X[:,t+1] = X[:,t] + k*(mu - X[:,t]) * dt + sigma * np.sqrt(dt) * Z[:,t]\n",
        "    return X\n"
      ],
      "metadata": {
        "id": "v3969UqDeKs3"
      },
      "execution_count": null,
      "outputs": []
    },
    {
      "cell_type": "code",
      "source": [
        "T = 4       # Para 4 años\n",
        "M = 48      # número de meses en 5 años, dado que la simulación es mensual\n",
        "k = 1\n",
        "mu = promedio_rendimientos \n",
        "sigma = sigma\n",
        "X0 = precios.iloc[-1,:]\n",
        "NS = 3\n"
      ],
      "metadata": {
        "id": "QRexLBeKeMVf"
      },
      "execution_count": null,
      "outputs": []
    },
    {
      "cell_type": "code",
      "source": [
        "plt.plot(np.transpose(PathsOU(X0, k, mu, sigma, T, NS, M)));\n",
        "plt.xlabel(\"Tiempo (meses)\")\n",
        "plt.title(\"Serie simulada\")\n",
        "plt.ylabel(\"X(t)\")\n",
        "plt.show();"
      ],
      "metadata": {
        "colab": {
          "base_uri": "https://localhost:8080/",
          "height": 472
        },
        "id": "Z0Uy1R0deqoe",
        "outputId": "2e81959c-f592-44ac-dc70-1f0574783da8"
      },
      "execution_count": null,
      "outputs": [
        {
          "output_type": "display_data",
          "data": {
            "text/plain": [
              "<Figure size 640x480 with 1 Axes>"
            ],
            "image/png": "[encoded data removed]"
          },
          "metadata": {}
        }
      ]
    },
    {
      "cell_type": "code",
      "source": [
        "X=PathsOU(X0, k, mu, sigma, T, NS, M)\n"
      ],
      "metadata": {
        "id": "43AK7u_5j8W2"
      },
      "execution_count": null,
      "outputs": []
    },
    {
      "cell_type": "code",
      "source": [
        "X = pd.DataFrame(X.T)\n"
      ],
      "metadata": {
        "id": "DobZxgcavUwu"
      },
      "execution_count": null,
      "outputs": []
    },
    {
      "cell_type": "code",
      "source": [
        "retornos_simulados = np.log(X/X.shift()).dropna()\n",
        "Mu_simulados = retornos_simulados.mean()\n",
        "covarianza_simulados = retornos_simulados.cov()\n",
        "sigma_simulados = retornos_simulados.std()\n"
      ],
      "metadata": {
        "id": "fgu6rJLGtkrW"
      },
      "execution_count": null,
      "outputs": []
    },
    {
      "cell_type": "code",
      "source": [
        "import cvxpy as cp \n",
        "w_simulado= cp.Variable(3)\n",
        "obj=cp.Minimize(cp.quad_form(w_simulado,covarianza_simulados))\n",
        "const = [cp.sum(w_simulado)==1, w_simulado>=0]\n",
        "prob = cp.Problem(obj, const)\n",
        "prob.solve()\n",
        "wpmvg_simulado = w_simulado.value\n",
        "wpmvg_simulado\n"
      ],
      "metadata": {
        "colab": {
          "base_uri": "https://localhost:8080/"
        },
        "id": "2VqG4wGbf2AV",
        "outputId": "e2764e4a-966c-4ccb-a35a-9d4044c5e9e0"
      },
      "execution_count": null,
      "outputs": [
        {
          "output_type": "execute_result",
          "data": {
            "text/plain": [
              "array([4.52666980e-16, 5.27140193e-01, 4.72859807e-01])"
            ]
          },
          "metadata": {},
          "execution_count": 400
        }
      ]
    },
    {
      "cell_type": "code",
      "source": [
        "alpha=0.95\n",
        "VaR_simulado= norm.ppf(alpha, Mu_simulados,sigma_simulados) \n",
        "VaR_simulado"
      ],
      "metadata": {
        "colab": {
          "base_uri": "https://localhost:8080/"
        },
        "id": "WHL0RmOhx2Kk",
        "outputId": "3dea7526-400f-4529-ba6c-caa21a8defb0"
      },
      "execution_count": null,
      "outputs": [
        {
          "output_type": "execute_result",
          "data": {
            "text/plain": [
              "array([-0.07306644, -0.08402833, -0.08436438])"
            ]
          },
          "metadata": {},
          "execution_count": 401
        }
      ]
    },
    {
      "cell_type": "code",
      "source": [
        "\n",
        "resumen = np.array([wpmvg.round(4), wpmvg_simulado.round(4), VaR.round(4), VaR_simulado.round(4)])\n",
        "resumen"
      ],
      "metadata": {
        "colab": {
          "base_uri": "https://localhost:8080/"
        },
        "id": "BOQ3KGRf0sgE",
        "outputId": "af0c07e2-f1a0-4b05-c857-084ed26bfe73"
      },
      "execution_count": null,
      "outputs": [
        {
          "output_type": "execute_result",
          "data": {
            "text/plain": [
              "array([[ 0.0978,  0.5163,  0.3859],\n",
              "       [ 0.    ,  0.5271,  0.4729],\n",
              "       [ 0.1349,  0.0903,  0.1   ],\n",
              "       [-0.0731, -0.084 , -0.0844]])"
            ]
          },
          "metadata": {},
          "execution_count": 402
        }
      ]
    }
  ]
}